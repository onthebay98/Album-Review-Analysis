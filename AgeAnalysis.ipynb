{
 "cells": [
  {
   "cell_type": "markdown",
   "id": "a95bcc6e-b913-4568-a772-ea1b12176731",
   "metadata": {},
   "source": [
    "Get AgeAnalysisData1.pickle and AgeAnalysisData2.pickle: https://drive.google.com/drive/folders/1Q_DZT6ELtnieUQPfduH2JxIWypQYSEcV?usp=sharing"
   ]
  },
  {
   "cell_type": "code",
   "execution_count": 1,
   "id": "88042d2f-1802-4823-bcc3-69ef52e0f4bc",
   "metadata": {},
   "outputs": [],
   "source": [
    "from bs4 import BeautifulSoup\n",
    "import requests\n",
    "import pandas as pd\n",
    "import matplotlib.pyplot as plt\n",
    "%matplotlib inline\n",
    "import numpy as np\n",
    "import pickle\n",
    "import time"
   ]
  },
  {
   "cell_type": "code",
   "execution_count": 2,
   "id": "10d72650-6275-4650-b5c7-ff4a1f6b9687",
   "metadata": {},
   "outputs": [],
   "source": [
    "def reviewsByGrade(URL, reviews_by_grade, years_by_grade, grades_by_year, grades_by_review):\n",
    "    '''\n",
    "        This function takes a URL from the section of robertchristgau.com that lists albums by their grade as input\n",
    "        Then it scrapes the URL for its text before storing relevant data on grades, years, and artist/album names into 4 different dictionaries\n",
    "    \n",
    "        Input: a URL, 4 empty dictionaries\n",
    "        \n",
    "        Output: nothing\n",
    "        \n",
    "        Modifies: 4 different dictionaries that aggregate data on grades, years, and artist/album names\n",
    "    '''\n",
    "    \n",
    "    text = BeautifulSoup(requests.get(URL).content, \"html.parser\").get_text().split(\"\\n\") # get just the text from the URL\n",
    "    \n",
    "    try:\n",
    "        text = text[text.index('Follow @rxgau')+5:text.index('Consumer Guide Index by Grade')]\n",
    "        \n",
    "    except:\n",
    "        print(f\"There's been an error, the following page is formatted differently than the rest: {URL}\")\n",
    "\n",
    "    try:\n",
    "        text.remove('Compilations/Soundtracks')\n",
    "        \n",
    "    except:\n",
    "        pass\n",
    "\n",
    "    reviews = [] # get reviews for one grade\n",
    "\n",
    "    for i in range(1, len(text)-1):\n",
    "        if (text[i] != '') and (text[i+1] != ''):\n",
    "            reviews.append(text[i] + \" \" + text[i+1]) # to get the albums\n",
    "            \n",
    "        elif (text[i-1] == '') and (text[i] != '') and (text[i+1] == ''):\n",
    "            reviews.append(text[i]) # to get the compliations/soundtracks, which are only on one line\n",
    "\n",
    "    reviews[0] = reviews[0].replace('Consumer Guide Grade List: ', '').split(' ', 1)[0] # pull the grade\n",
    "\n",
    "    grade = reviews[0]\n",
    "    reviews = reviews[1:]\n",
    "    \n",
    "    # convert *** to B, ** to B-, * to C+, N to C, S to C-, X to D+ - logic assumed from here: https://www.robertchristgau.com/xg/bk-cg90/grades-90s.php\n",
    "    if grade == '***':\n",
    "        grade = 'B+'\n",
    "    if grade == '**':\n",
    "        grade = 'B'\n",
    "    if grade == '*':\n",
    "        grade = 'B-'\n",
    "    if grade == 'N':\n",
    "        grade = 'B-'\n",
    "    if grade == 'S':\n",
    "        grade = 'C+'\n",
    "    if grade == 'X':\n",
    "        grade = 'C+'\n",
    "\n",
    "    reviews_parsed = []\n",
    "    years = []\n",
    "    \n",
    "    for review in reviews:\n",
    "        try:\n",
    "            reviews_parsed.append((review.split(' [')[0], # get the artist and album\n",
    "                                   int(review.split(' [')[1].split(',')[0]))) # get the year and make it an integer\n",
    "            \n",
    "            grades_by_review[(review.split(' [')[0],\n",
    "                                   int(review.split(' [')[1].split(',')[0]))] = grade\n",
    "            \n",
    "            if int(review.split(' [')[1].split(',')[0]) not in grades_by_year:\n",
    "                grades_by_year[int(review.split(' [')[1].split(',')[0])] = [grade]\n",
    "            else:\n",
    "                grades_by_year[int(review.split(' [')[1].split(',')[0])].append(grade)\n",
    "            \n",
    "            years.append(int(review.split(' [')[1].split(',')[0][:4]))\n",
    "            \n",
    "        except Exception as e: # for the cases in which the album name has a '[' in it (ex. Prince and the New Power Generation: [File Under Prince] [1992, Paisley Park])\n",
    "            if (\"-\" in str(e)): # for the very 3-4 cases in which the year is mistakenly written as something like 1999-0 on the site\n",
    "                pass\n",
    "            elif 'invalid literal' in str(e): \n",
    "                reviews_parsed.append(((' ['.join(review.split(' [')[:2]), \n",
    "                                        int(' ['.join(review.split(' [')[2:]).split(',')[0]))))\n",
    "                                       \n",
    "                grades_by_review[((' ['.join(review.split(' [')[:2]), \n",
    "                                   int(' ['.join(review.split(' [')[2:]).split(',')[0][:4])))] = grade\n",
    "                \n",
    "                if int(' ['.join(review.split(' [')[2:]).split(',')[0]) not in grades_by_year:\n",
    "                    grades_by_year[int(' ['.join(review.split(' [')[2:]).split(',')[0][:4])] = [grade]\n",
    "                else:\n",
    "                    grades_by_year[int(' ['.join(review.split(' [')[2:]).split(',')[0][:4])].append(grade)\n",
    "                \n",
    "                years.append(int(' ['.join(review.split(' [')[2:]).split(',')[0]))\n",
    "                \n",
    "            else: # deal with other errors manually\n",
    "                print(f'error type: {e}')\n",
    "                print(f'grade: {grade}')\n",
    "                print(f'URL: {URL}')\n",
    "                print(f'review text: {review}')\n",
    "                print()\n",
    "    \n",
    "    if grade not in reviews_by_grade:\n",
    "        reviews_by_grade[grade] = reviews_parsed\n",
    "        years_by_grade[grade] = years\n",
    "        \n",
    "    else: # this is so we add the \"star\" reviews to the converted grades   \n",
    "        reviews_by_grade[grade] = reviews_by_grade[grade] + reviews_parsed"
   ]
  },
  {
   "cell_type": "code",
   "execution_count": 3,
   "id": "e6b630a2-abd7-4637-84f8-2aef327e7439",
   "metadata": {},
   "outputs": [],
   "source": [
    "# these are the relevant URLs that we will feed into the function reviewsByGrade\n",
    "URLs = [\"https://www.robertchristgau.com/get_gl.php?g=A%2B\", #A+\n",
    "        \"https://www.robertchristgau.com/get_gl.php?g=A\", #A\n",
    "        \"https://www.robertchristgau.com/get_gl.php?g=A-\", #A-\n",
    "        \"https://www.robertchristgau.com/get_gl.php?g=B%2B\", #B+\n",
    "        \"https://www.robertchristgau.com/get_gl.php?g=B\", #B\n",
    "        \"https://www.robertchristgau.com/get_gl.php?g=***\", #B+\n",
    "        \"https://www.robertchristgau.com/get_gl.php?g=B-\", #B-\n",
    "        \"https://www.robertchristgau.com/get_gl.php?g=**\", #B\n",
    "        \"https://www.robertchristgau.com/get_gl.php?g=C%2B\", #C+\n",
    "        \"https://www.robertchristgau.com/get_gl.php?g=*\", #B-\n",
    "        \"https://www.robertchristgau.com/get_gl.php?g=C\", #C\n",
    "        \"https://www.robertchristgau.com/get_gl.php?g=N\", #B- \"neither\"\n",
    "        \"https://www.robertchristgau.com/get_gl.php?g=C-\", #C-\n",
    "        \"https://www.robertchristgau.com/get_gl.php?g=S\", #C+ - \"choice cut\" Christgau says these are most likely \"bombs (X)\", which I think is equivalent to a C+\n",
    "        \"https://www.robertchristgau.com/get_gl.php?g=D%2B\", #D+\n",
    "        \"https://www.robertchristgau.com/get_gl.php?g=X\", #C+ \"bombs\"\n",
    "        \"https://www.robertchristgau.com/get_gl.php?g=D\", #D\n",
    "        \"https://www.robertchristgau.com/get_gl.php?g=D-\", #D-\n",
    "        \"https://www.robertchristgau.com/get_gl.php?g=E%2B\", #E+\n",
    "        \"https://www.robertchristgau.com/get_gl.php?g=E\", #E\n",
    "        \"https://www.robertchristgau.com/get_gl.php?g=E-\"] #E-"
   ]
  },
  {
   "cell_type": "code",
   "execution_count": 4,
   "id": "e3692577-952d-413b-9c12-81aee5aeabfc",
   "metadata": {},
   "outputs": [],
   "source": [
    "# create four separate dictionarys\n",
    "# we might not end up using all of them, but since we only have to call this once, it's worth the extra computation time just in case we want different representations of the data\n",
    "# dictionaries are mutable, so our function will modify these without us needing to return anything\n",
    "\n",
    "reviews_by_grade = {}\n",
    "years_by_grade = {}\n",
    "grades_by_year = {}\n",
    "grades_by_review = {}"
   ]
  },
  {
   "cell_type": "code",
   "execution_count": 5,
   "id": "68ca82e1-4cbd-4adc-b3e7-bed638f97d36",
   "metadata": {},
   "outputs": [
    {
     "name": "stdout",
     "output_type": "stream",
     "text": [
      "error type: list index out of range\n",
      "grade: B+\n",
      "URL: https://www.robertchristgau.com/get_gl.php?g=B%2B\n",
      "review text: Tim Heidecker: Too Dumb for Suicide: Tim Heidecker's Trump\n",
      "\n",
      "\n",
      "\n",
      "It took 11.62314486503601 seconds to scrape all that data and create 4 dictionaries to store it!\n"
     ]
    }
   ],
   "source": [
    "# let's time how long it takes to scrape all these URLs!\n",
    "start_time = time.time()\n",
    "\n",
    "for URL in URLs: # this loop is doing all the work\n",
    "    reviewsByGrade(URL, reviews_by_grade, years_by_grade, grades_by_year, grades_by_review)\n",
    "\n",
    "print()\n",
    "print()\n",
    "print(f\"It took {time.time() - start_time} seconds to scrape all that data and create 4 dictionaries to store it!\")"
   ]
  },
  {
   "cell_type": "code",
   "execution_count": 6,
   "id": "674adebc-8402-486a-becf-cd1636be677e",
   "metadata": {},
   "outputs": [],
   "source": [
    "'''\n",
    "    Since we only have one error left, we might as well resolve it manually\n",
    "    \n",
    "    But we also note that...writing all of this was a bit of a pain, and to fix even one error, we have to edit 4 of the dictionaries that we made\n",
    "    Lesson learned. For the second part of our analysis and scraping, we only build one dictionary, and then modify it after the data is collected if necessary\n",
    "    \n",
    "    And we also consider the fact that we don't need ALL of the data from the site...\n",
    "    Just a significant enough representation to make an informed test of our hypothesis\n",
    "'''\n",
    "\n",
    "reviews_by_grade[\"B+\"] = reviews_by_grade[\"B+\"] + [(\"Tim Heidecker: Too Dumb for Suicide: Tim Heidecker's Trump Songs\", 2017)]\n",
    "grades_by_review[(\"Tim Heidecker: Too Dumb for Suicide: Tim Heidecker's Trump Songs\", 2017)] = \"B+\"\n",
    "grades_by_year[2017].append(\"B+\")\n",
    "years_by_grade[\"B+\"].append(2017)"
   ]
  },
  {
   "cell_type": "code",
   "execution_count": 7,
   "id": "444d3c5c-23ca-4bf6-9dbb-e313fe6cd46e",
   "metadata": {},
   "outputs": [
    {
     "data": {
      "text/plain": [
       "\"\\nwith open('AgeAnalysisData1.pickle', 'rb') as handle:\\n    reviews_by_grade = pickle.load(handle)\\nwith open('AgeAnalysisData1.pickle', 'rb') as handle:\\n    grades_by_year = pickle.load(handle)\\n\""
      ]
     },
     "execution_count": 7,
     "metadata": {},
     "output_type": "execute_result"
    }
   ],
   "source": [
    "# save data\n",
    "'''\n",
    "with open('AgeAnalysisData1.pickle', 'wb') as handle:\n",
    "    pickle.dump(reviews_by_grade, handle, protocol=pickle.HIGHEST_PROTOCOL)\n",
    "with open('AgeAnalysisData2.pickle', 'wb') as handle:\n",
    "    pickle.dump(grades_by_year, handle, protocol=pickle.HIGHEST_PROTOCOL)\n",
    "'''\n",
    "# load data\n",
    "'''\n",
    "with open('AgeAnalysisData1.pickle', 'rb') as handle:\n",
    "    reviews_by_grade = pickle.load(handle)\n",
    "with open('AgeAnalysisData2.pickle', 'rb') as handle:\n",
    "    grades_by_year = pickle.load(handle)\n",
    "'''"
   ]
  },
  {
   "cell_type": "markdown",
   "id": "51128772-1d15-4da8-bac3-2be19ce22d8d",
   "metadata": {},
   "source": [
    "Up until this point, we've collected all of the data we need from robertchristgau.com and packed it into dictionaries.\n",
    "\n",
    "Now, we perform an analysis to test a hunch I've had after a few years reading Christgau's album reviews - that he's gotten more lenient in his album scoring as the years go by.\n",
    "\n",
    "Formally:\n",
    "- Null hypothesis: No significant positive trend exists\n",
    "- Alternative hypothesis: A significant positive trend exists"
   ]
  },
  {
   "cell_type": "code",
   "execution_count": 8,
   "id": "0870187c-77c5-41a1-bd6e-70c61d94df92",
   "metadata": {},
   "outputs": [
    {
     "data": {
      "text/plain": [
       "[136, 1960, 1962, 1964, 1967]"
      ]
     },
     "metadata": {},
     "output_type": "display_data"
    },
    {
     "data": {
      "text/plain": [
       "[2017, 2018, 2019, 2020, 2021]"
      ]
     },
     "metadata": {},
     "output_type": "display_data"
    },
    {
     "data": {
      "text/plain": [
       "[1960, 1962, 1964, 1967, 1968]"
      ]
     },
     "metadata": {},
     "output_type": "display_data"
    }
   ],
   "source": [
    "'''\n",
    "for now, we only want grades_by_year in order to test our hypothesis\n",
    "taking a peek at its keys, we notice an incorrect entry - 136 is not a valid year\n",
    "after a manual check at the website, it looks like the year was wrong on the site itself (it was not an issue with our code)\n",
    "we drop the value\n",
    "'''\n",
    "\n",
    "display(sorted(list(grades_by_year.keys()))[0:5])\n",
    "display(sorted(list(grades_by_year.keys()))[-5:])\n",
    "\n",
    "del grades_by_year[136]\n",
    "display(sorted(list(grades_by_year.keys()))[0:5])"
   ]
  },
  {
   "cell_type": "code",
   "execution_count": 9,
   "id": "d2610d49-0be7-4002-b908-28462bb01689",
   "metadata": {},
   "outputs": [],
   "source": [
    "# make a data frame for easier viewing\n",
    "years_df = pd.DataFrame.from_dict(grades_by_year, orient='index').transpose()\n",
    "years_df = years_df.reindex(sorted(years_df.columns), axis=1)"
   ]
  },
  {
   "cell_type": "code",
   "execution_count": 10,
   "id": "23fa9b47-5f1c-4951-a415-d5da1acc8dac",
   "metadata": {},
   "outputs": [
    {
     "data": {
      "text/html": [
       "<div>\n",
       "<style scoped>\n",
       "    .dataframe tbody tr th:only-of-type {\n",
       "        vertical-align: middle;\n",
       "    }\n",
       "\n",
       "    .dataframe tbody tr th {\n",
       "        vertical-align: top;\n",
       "    }\n",
       "\n",
       "    .dataframe thead th {\n",
       "        text-align: right;\n",
       "    }\n",
       "</style>\n",
       "<table border=\"1\" class=\"dataframe\">\n",
       "  <thead>\n",
       "    <tr style=\"text-align: right;\">\n",
       "      <th></th>\n",
       "      <th>1960</th>\n",
       "      <th>1962</th>\n",
       "      <th>1964</th>\n",
       "      <th>1967</th>\n",
       "      <th>1968</th>\n",
       "      <th>1969</th>\n",
       "      <th>1970</th>\n",
       "      <th>1971</th>\n",
       "      <th>1972</th>\n",
       "      <th>1973</th>\n",
       "      <th>...</th>\n",
       "      <th>2012</th>\n",
       "      <th>2013</th>\n",
       "      <th>2014</th>\n",
       "      <th>2015</th>\n",
       "      <th>2016</th>\n",
       "      <th>2017</th>\n",
       "      <th>2018</th>\n",
       "      <th>2019</th>\n",
       "      <th>2020</th>\n",
       "      <th>2021</th>\n",
       "    </tr>\n",
       "  </thead>\n",
       "  <tbody>\n",
       "    <tr>\n",
       "      <th>0</th>\n",
       "      <td>A</td>\n",
       "      <td>A-</td>\n",
       "      <td>A-</td>\n",
       "      <td>A+</td>\n",
       "      <td>A-</td>\n",
       "      <td>A+</td>\n",
       "      <td>A+</td>\n",
       "      <td>A+</td>\n",
       "      <td>A+</td>\n",
       "      <td>A+</td>\n",
       "      <td>...</td>\n",
       "      <td>A</td>\n",
       "      <td>A+</td>\n",
       "      <td>A+</td>\n",
       "      <td>A+</td>\n",
       "      <td>A+</td>\n",
       "      <td>A</td>\n",
       "      <td>A+</td>\n",
       "      <td>A</td>\n",
       "      <td>A+</td>\n",
       "      <td>A</td>\n",
       "    </tr>\n",
       "    <tr>\n",
       "      <th>1</th>\n",
       "      <td>None</td>\n",
       "      <td>None</td>\n",
       "      <td>None</td>\n",
       "      <td>A</td>\n",
       "      <td>B</td>\n",
       "      <td>A+</td>\n",
       "      <td>A+</td>\n",
       "      <td>A+</td>\n",
       "      <td>A+</td>\n",
       "      <td>A+</td>\n",
       "      <td>...</td>\n",
       "      <td>A</td>\n",
       "      <td>A</td>\n",
       "      <td>A</td>\n",
       "      <td>A</td>\n",
       "      <td>A</td>\n",
       "      <td>A</td>\n",
       "      <td>A</td>\n",
       "      <td>A</td>\n",
       "      <td>A+</td>\n",
       "      <td>A</td>\n",
       "    </tr>\n",
       "    <tr>\n",
       "      <th>2</th>\n",
       "      <td>None</td>\n",
       "      <td>None</td>\n",
       "      <td>None</td>\n",
       "      <td>A</td>\n",
       "      <td>B-</td>\n",
       "      <td>A+</td>\n",
       "      <td>A+</td>\n",
       "      <td>A+</td>\n",
       "      <td>A+</td>\n",
       "      <td>A</td>\n",
       "      <td>...</td>\n",
       "      <td>A</td>\n",
       "      <td>A</td>\n",
       "      <td>A</td>\n",
       "      <td>A</td>\n",
       "      <td>A</td>\n",
       "      <td>A</td>\n",
       "      <td>A</td>\n",
       "      <td>A</td>\n",
       "      <td>A</td>\n",
       "      <td>A</td>\n",
       "    </tr>\n",
       "  </tbody>\n",
       "</table>\n",
       "<p>3 rows × 58 columns</p>\n",
       "</div>"
      ],
      "text/plain": [
       "   1960  1962  1964 1967 1968 1969 1970 1971 1972 1973  ... 2012 2013 2014  \\\n",
       "0     A    A-    A-   A+   A-   A+   A+   A+   A+   A+  ...    A   A+   A+   \n",
       "1  None  None  None    A    B   A+   A+   A+   A+   A+  ...    A    A    A   \n",
       "2  None  None  None    A   B-   A+   A+   A+   A+    A  ...    A    A    A   \n",
       "\n",
       "  2015 2016 2017 2018 2019 2020 2021  \n",
       "0   A+   A+    A   A+    A   A+    A  \n",
       "1    A    A    A    A    A   A+    A  \n",
       "2    A    A    A    A    A    A    A  \n",
       "\n",
       "[3 rows x 58 columns]"
      ]
     },
     "execution_count": 10,
     "metadata": {},
     "output_type": "execute_result"
    }
   ],
   "source": [
    "years_df.head(3)"
   ]
  },
  {
   "cell_type": "code",
   "execution_count": 11,
   "id": "fe4f843f-e7de-4a36-bfc8-04bc5ddd94d3",
   "metadata": {},
   "outputs": [],
   "source": [
    "grades = {\"A+\":97,\n",
    "          \"A\":93,\n",
    "          \"A-\":90,\n",
    "          \"B+\":87,\n",
    "          \"B\":83,\n",
    "          \"B-\":80,\n",
    "          \"C+\":77,\n",
    "          \"C\":73,\n",
    "          \"C-\":70,\n",
    "          \"D+\":67,\n",
    "          \"D\":63,\n",
    "          \"D-\":60,\n",
    "          \"E+\":57,\n",
    "          \"E\":53,\n",
    "          \"E-\":50}"
   ]
  },
  {
   "cell_type": "code",
   "execution_count": 12,
   "id": "54efc236-262f-4dbf-9fde-07cf6e231892",
   "metadata": {},
   "outputs": [],
   "source": [
    "# quantify the grades for analysis\n",
    "years_df_numerical = years_df.replace(grades)"
   ]
  },
  {
   "cell_type": "code",
   "execution_count": 13,
   "id": "075bb880-54fe-42b3-ade2-fc83582e9bbc",
   "metadata": {},
   "outputs": [],
   "source": [
    "# we notice that some years have very few reviews\n",
    "# let's drop the years that have fewer than 30 reviews\n",
    "years_df_numerical = years_df_numerical[years_df_numerical.columns[years_df_numerical.isnull().mean() < 0.8]]"
   ]
  },
  {
   "cell_type": "code",
   "execution_count": 14,
   "id": "2cae5312-153a-4c2c-9391-a4570c55c466",
   "metadata": {},
   "outputs": [],
   "source": [
    "means = pd.DataFrame(years_df_numerical.mean()).reset_index().rename(columns={'index': 'year',0: 'mean'})"
   ]
  },
  {
   "cell_type": "code",
   "execution_count": 15,
   "id": "d6bf7e4d-3cf8-4a5e-8caf-200f0ce46d86",
   "metadata": {},
   "outputs": [
    {
     "data": {
      "image/png": "[encoded data removed]",
      "text/plain": [
       "<Figure size 2000x1000 with 1 Axes>"
      ]
     },
     "metadata": {},
     "output_type": "display_data"
    }
   ],
   "source": [
    "# let's visualize the mean distribution of scores across years\n",
    "plt.figure(figsize=(20,10))\n",
    "plt.title('Mean Grades by Year')\n",
    "\n",
    "x, y = means['year'], means['mean']\n",
    "\n",
    "#create basic scatterplot\n",
    "plt.plot(x, y, 'o')\n",
    "\n",
    "#obtain m (slope) and b(intercept) of linear regression line\n",
    "m, b = np.polyfit(x, y, 1)\n",
    "\n",
    "#add linear regression line to scatterplot \n",
    "plt.plot(x, m*x+b)\n",
    "\n",
    "plt.show()"
   ]
  },
  {
   "cell_type": "code",
   "execution_count": 16,
   "id": "763fb8cb-4d8b-4a4d-8c08-774475a8f7a2",
   "metadata": {},
   "outputs": [
    {
     "data": {
      "text/plain": [
       "'correlation coefficient = 0.684812277693051'"
      ]
     },
     "metadata": {},
     "output_type": "display_data"
    }
   ],
   "source": [
    "r = np.corrcoef(x, y)[0,1]\n",
    "display(f\"correlation coefficient = {r}\")"
   ]
  },
  {
   "cell_type": "markdown",
   "id": "a0f75481-6fc2-4211-8b66-b7fdce6e44d6",
   "metadata": {},
   "source": [
    "A correlation coefficient of approximately 0.68 represents a moderate to strong correlation between year and grade. Both visually and numerically, we believe there is a trend.\n",
    "\n",
    "Let's now test our null hypothesis a bit more formally with a Tau-test (https://en.wikipedia.org/wiki/Kendall_rank_correlation_coefficient). Kendall's Tau is a statistic that measures the ordinal association between two variables, which is exactly what we want to use to test if there is a statistically significant trend in our time series"
   ]
  },
  {
   "cell_type": "code",
   "execution_count": 17,
   "id": "ea3821ea-7c5e-4b8d-a711-28f8a03777fd",
   "metadata": {},
   "outputs": [],
   "source": [
    "import scipy.stats as stats\n",
    "tau, p_value = stats.kendalltau(means['year'], means['mean'])"
   ]
  },
  {
   "cell_type": "code",
   "execution_count": 18,
   "id": "808218e2-56bb-4aca-bf16-dd739ffd2914",
   "metadata": {},
   "outputs": [
    {
     "name": "stdout",
     "output_type": "stream",
     "text": [
      "Kendall's Tau: 0.46757164404223234, p-value: 9.95796558607817e-07\n"
     ]
    }
   ],
   "source": [
    "print(f\"Kendall's Tau: {tau}, p-value: {p_value}\")"
   ]
  },
  {
   "cell_type": "code",
   "execution_count": 19,
   "id": "8dd6856d-1b7f-4e63-adf7-dc4fb2b916e0",
   "metadata": {},
   "outputs": [
    {
     "data": {
      "text/plain": [
       "True"
      ]
     },
     "execution_count": 19,
     "metadata": {},
     "output_type": "execute_result"
    }
   ],
   "source": [
    "p_value < 0.05"
   ]
  },
  {
   "cell_type": "markdown",
   "id": "7d962780-2787-4010-a0a5-3ceb05a3493a",
   "metadata": {},
   "source": [
    "Since our Tau coefficient is positive (indicating a positive correlation) and our p-value is beneath 0.05, we have enough evidence to reject our null hypothesis and say that Christgau has gotten more lenient in his album grading over the years. Why? We can only speculate - our test tells us nothing about that. Maybe music has gotten better since the 70s (doubtful), or the increased access to music with the advent of streaming has forced Christgau to being more selective in choosing which albums to review (a selection bias due to choice overload)."
   ]
  }
 ],
 "metadata": {
  "kernelspec": {
   "display_name": "Python 3 (ipykernel)",
   "language": "python",
   "name": "python3"
  },
  "language_info": {
   "codemirror_mode": {
    "name": "ipython",
    "version": 3
   },
   "file_extension": ".py",
   "mimetype": "text/x-python",
   "name": "python",
   "nbconvert_exporter": "python",
   "pygments_lexer": "ipython3",
   "version": "3.9.15"
  }
 },
 "nbformat": 4,
 "nbformat_minor": 5
}
